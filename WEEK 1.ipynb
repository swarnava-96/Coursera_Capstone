{
 "cells": [
  {
   "cell_type": "markdown",
   "id": "equivalent-insulin",
   "metadata": {},
   "source": [
    "# COURSERA IBM CAPSTONE"
   ]
  },
  {
   "cell_type": "markdown",
   "id": "civilian-trinidad",
   "metadata": {},
   "source": [
    " This notebook will be mainly used for the capstone project."
   ]
  },
  {
   "cell_type": "code",
   "execution_count": 5,
   "id": "mathematical-medicine",
   "metadata": {},
   "outputs": [],
   "source": [
    "#Importing the pandas library as pd and the Numpy library as np.\n",
    "\n",
    "import pandas as pd\n",
    "import numpy as np"
   ]
  },
  {
   "cell_type": "code",
   "execution_count": 6,
   "id": "christian-phrase",
   "metadata": {},
   "outputs": [
    {
     "name": "stdout",
     "output_type": "stream",
     "text": [
      "Hello Capstone Project Course!\n"
     ]
    }
   ],
   "source": [
    "#Now we will print the following the statement: Hello Capstone Project Course!\n",
    "\n",
    "print('Hello Capstone Project Course!')"
   ]
  },
  {
   "cell_type": "code",
   "execution_count": null,
   "id": "incomplete-selection",
   "metadata": {},
   "outputs": [],
   "source": []
  }
 ],
 "metadata": {
  "kernelspec": {
   "display_name": "Python 3",
   "language": "python",
   "name": "python3"
  },
  "language_info": {
   "codemirror_mode": {
    "name": "ipython",
    "version": 3
   },
   "file_extension": ".py",
   "mimetype": "text/x-python",
   "name": "python",
   "nbconvert_exporter": "python",
   "pygments_lexer": "ipython3",
   "version": "3.7.3"
  }
 },
 "nbformat": 4,
 "nbformat_minor": 5
}
